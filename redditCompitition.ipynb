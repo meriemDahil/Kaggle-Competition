{
 "cells": [
  {
   "cell_type": "code",
   "execution_count": 1,
   "id": "ca9c1e69",
   "metadata": {
    "_cell_guid": "b1076dfc-b9ad-4769-8c92-a6c4dae69d19",
    "_uuid": "8f2839f25d086af736a60e9eeb907d3b93b6e0e5",
    "execution": {
     "iopub.execute_input": "2025-09-25T12:35:18.246537Z",
     "iopub.status.busy": "2025-09-25T12:35:18.246159Z",
     "iopub.status.idle": "2025-09-25T12:35:20.341626Z",
     "shell.execute_reply": "2025-09-25T12:35:20.340413Z"
    },
    "papermill": {
     "duration": 2.101326,
     "end_time": "2025-09-25T12:35:20.343247",
     "exception": false,
     "start_time": "2025-09-25T12:35:18.241921",
     "status": "completed"
    },
    "tags": []
   },
   "outputs": [
    {
     "name": "stdout",
     "output_type": "stream",
     "text": [
      "/kaggle/input/jigsaw-agile-community-rules/sample_submission.csv\n",
      "/kaggle/input/jigsaw-agile-community-rules/train.csv\n",
      "/kaggle/input/jigsaw-agile-community-rules/test.csv\n"
     ]
    }
   ],
   "source": [
    "# This Python 3 environment comes with many helpful analytics libraries installed\n",
    "# It is defined by the kaggle/python Docker image: https://github.com/kaggle/docker-python\n",
    "# For example, here's several helpful packages to load\n",
    "\n",
    "import numpy as np # linear algebra\n",
    "import pandas as pd # data processing, CSV file I/O (e.g. pd.read_csv)\n",
    "\n",
    "# Input data files are available in the read-only \"../input/\" directory\n",
    "# For example, running this (by clicking run or pressing Shift+Enter) will list all files under the input directory\n",
    "\n",
    "import os\n",
    "for dirname, _, filenames in os.walk('/kaggle/input'):\n",
    "    for filename in filenames:\n",
    "        print(os.path.join(dirname, filename))\n",
    "\n",
    "# You can write up to 20GB to the current directory (/kaggle/working/) that gets preserved as output when you create a version using \"Save & Run All\" \n",
    "# You can also write temporary files to /kaggle/temp/, but they won't be saved outside of the current session"
   ]
  },
  {
   "cell_type": "code",
   "execution_count": 2,
   "id": "db01ae39",
   "metadata": {
    "execution": {
     "iopub.execute_input": "2025-09-25T12:35:20.348663Z",
     "iopub.status.busy": "2025-09-25T12:35:20.348190Z",
     "iopub.status.idle": "2025-09-25T12:35:20.438543Z",
     "shell.execute_reply": "2025-09-25T12:35:20.437529Z"
    },
    "papermill": {
     "duration": 0.094814,
     "end_time": "2025-09-25T12:35:20.440288",
     "exception": false,
     "start_time": "2025-09-25T12:35:20.345474",
     "status": "completed"
    },
    "tags": []
   },
   "outputs": [],
   "source": [
    "df = pd.read_csv(\"/kaggle/input/jigsaw-agile-community-rules/train.csv\")"
   ]
  },
  {
   "cell_type": "code",
   "execution_count": 3,
   "id": "b1d81216",
   "metadata": {
    "execution": {
     "iopub.execute_input": "2025-09-25T12:35:20.445290Z",
     "iopub.status.busy": "2025-09-25T12:35:20.444978Z",
     "iopub.status.idle": "2025-09-25T12:35:20.476917Z",
     "shell.execute_reply": "2025-09-25T12:35:20.475705Z"
    },
    "papermill": {
     "duration": 0.036368,
     "end_time": "2025-09-25T12:35:20.478720",
     "exception": false,
     "start_time": "2025-09-25T12:35:20.442352",
     "status": "completed"
    },
    "tags": []
   },
   "outputs": [
    {
     "name": "stdout",
     "output_type": "stream",
     "text": [
      "<class 'pandas.core.frame.DataFrame'>\n",
      "RangeIndex: 2029 entries, 0 to 2028\n",
      "Data columns (total 9 columns):\n",
      " #   Column              Non-Null Count  Dtype \n",
      "---  ------              --------------  ----- \n",
      " 0   row_id              2029 non-null   int64 \n",
      " 1   body                2029 non-null   object\n",
      " 2   rule                2029 non-null   object\n",
      " 3   subreddit           2029 non-null   object\n",
      " 4   positive_example_1  2029 non-null   object\n",
      " 5   positive_example_2  2029 non-null   object\n",
      " 6   negative_example_1  2029 non-null   object\n",
      " 7   negative_example_2  2029 non-null   object\n",
      " 8   rule_violation      2029 non-null   int64 \n",
      "dtypes: int64(2), object(7)\n",
      "memory usage: 142.8+ KB\n"
     ]
    }
   ],
   "source": [
    "df.info()"
   ]
  },
  {
   "cell_type": "code",
   "execution_count": 4,
   "id": "8b4418ea",
   "metadata": {
    "execution": {
     "iopub.execute_input": "2025-09-25T12:35:20.483682Z",
     "iopub.status.busy": "2025-09-25T12:35:20.483366Z",
     "iopub.status.idle": "2025-09-25T12:35:20.500491Z",
     "shell.execute_reply": "2025-09-25T12:35:20.499659Z"
    },
    "papermill": {
     "duration": 0.021211,
     "end_time": "2025-09-25T12:35:20.501890",
     "exception": false,
     "start_time": "2025-09-25T12:35:20.480679",
     "status": "completed"
    },
    "tags": []
   },
   "outputs": [
    {
     "data": {
      "text/plain": [
       "<bound method NDFrame.head of       row_id                                               body  \\\n",
       "0          0  Banks don't want you to know this! Click here ...   \n",
       "1          1  SD Stream [ ENG Link 1] (http://www.sportsstre...   \n",
       "2          2  Lol. Try appealing the ban and say you won't d...   \n",
       "3          3  she will come your home open her legs with  an...   \n",
       "4          4  code free tyrande --->>> [Imgur](http://i.imgu...   \n",
       "...      ...                                                ...   \n",
       "2024    2024  Please edit your post so it is readable. These...   \n",
       "2025    2025  Yes, and in a right to work state they can eve...   \n",
       "2026    2026  **HD** Streams: |ENG **HD**[ Watch here..PC & ...   \n",
       "2027    2027  No. Not when doing so obviously presents a saf...   \n",
       "2028    2028  > CA is an at fault state so they will not be ...   \n",
       "\n",
       "                                                   rule      subreddit  \\\n",
       "0     No Advertising: Spam, referral links, unsolici...     Futurology   \n",
       "1     No Advertising: Spam, referral links, unsolici...  soccerstreams   \n",
       "2     No legal advice: Do not offer or request legal...   pcmasterrace   \n",
       "3     No Advertising: Spam, referral links, unsolici...            sex   \n",
       "4     No Advertising: Spam, referral links, unsolici...    hearthstone   \n",
       "...                                                 ...            ...   \n",
       "2024  No legal advice: Do not offer or request legal...  relationships   \n",
       "2025  No legal advice: Do not offer or request legal...    legaladvice   \n",
       "2026  No Advertising: Spam, referral links, unsolici...  soccerstreams   \n",
       "2027  No legal advice: Do not offer or request legal...       politics   \n",
       "2028  No legal advice: Do not offer or request legal...    legaladvice   \n",
       "\n",
       "                                     positive_example_1  \\\n",
       "0     If you could tell your younger self something ...   \n",
       "1     [I wanna kiss you all over! Stunning!](http://...   \n",
       "2     Don't break up with him or call the cops.  If ...   \n",
       "3     Selling Tyrande codes for 3€ to paypal. PM. \\n...   \n",
       "4      wow!! amazing reminds me of the old days.Well...   \n",
       "...                                                 ...   \n",
       "2024  I'm not ok with this in anyway, and think you ...   \n",
       "2025  Move as much of your assets as you can offshor...   \n",
       "2026  stitopdisca1987.tumblr.com - sex Take girl for...   \n",
       "2027  SHE ISNT A BIRTHING CHAMBER BUT EQUALLY THE BA...   \n",
       "2028  [Yes, it is. In the USA, at least](https://www...   \n",
       "\n",
       "                                     positive_example_2  \\\n",
       "0     hunt for lady for jack off in neighbourhood ht...   \n",
       "1     LOLGA.COM is One of the First Professional Onl...   \n",
       "2     It'll be dismissed: https://en.wikipedia.org/w...   \n",
       "3     tight pussy watch for your cock get her at thi...   \n",
       "4     seek for lady for sex in around http://p77.pl/...   \n",
       "...                                                 ...   \n",
       "2024  See a lawyer under the guise that you want thi...   \n",
       "2025  We have great consumer protection laws. There'...   \n",
       "2026  this girl get sex going to  to old http://mrk....   \n",
       "2027  Jail? What are you, ten years old? If they pro...   \n",
       "2028  Never pay a civil demand. \\n\\nIt's a bluff and...   \n",
       "\n",
       "                                     negative_example_1  \\\n",
       "0     Watch Golden Globe Awards 2017 Live Online in ...   \n",
       "1     #Rapper \\n🚨Straight Outta Cross Keys SC 🚨YouTu...   \n",
       "2     Where is there a site that still works where y...   \n",
       "3     NSFW(obviously) http://spankbang.com/iy3u/vide...   \n",
       "4     must be watch movie https://sites.google.com/s...   \n",
       "...                                                 ...   \n",
       "2024  This is just untrue.  OP is 13, not an adult -...   \n",
       "2025  LPT piratebay, transmission, vpn. Get the musi...   \n",
       "2026  NO ADS | NO ADS | NO ADS\\n\\nWe show all SOCCER...   \n",
       "2027  Who cares about that when I can keep raping in...   \n",
       "2028  Where is there a site that still works where y...   \n",
       "\n",
       "                                     negative_example_2  rule_violation  \n",
       "0     DOUBLE CEE x BANDS EPPS - \"BIRDS\"\\n\\nDOWNLOAD/...               0  \n",
       "1     [15 Amazing Hidden Features Of Google Search Y...               0  \n",
       "2     Because this statement of his is true. It isn'...               1  \n",
       "3     Good News ::Download WhatsApp 2.16.230 APK for...               1  \n",
       "4     We're streaming Pokemon Veitnamese Crystal RIG...               1  \n",
       "...                                                 ...             ...  \n",
       "2024  Why should I care about all the bicyclists I i...               1  \n",
       "2025  It's not so much that I killed them, it's that...               0  \n",
       "2026  [So great! Thanks for sharing.](http://www.che...               1  \n",
       "2027  send me a private message; I may be able to he...               1  \n",
       "2028  Steal a car from an elderly person who won't n...               1  \n",
       "\n",
       "[2029 rows x 9 columns]>"
      ]
     },
     "execution_count": 4,
     "metadata": {},
     "output_type": "execute_result"
    }
   ],
   "source": [
    "df.head"
   ]
  }
 ],
 "metadata": {
  "kaggle": {
   "accelerator": "none",
   "dataSources": [
    {
     "databundleVersionId": 13121456,
     "sourceId": 94635,
     "sourceType": "competition"
    }
   ],
   "dockerImageVersionId": 31089,
   "isGpuEnabled": false,
   "isInternetEnabled": true,
   "language": "python",
   "sourceType": "notebook"
  },
  "kernelspec": {
   "display_name": "Python 3",
   "language": "python",
   "name": "python3"
  },
  "language_info": {
   "codemirror_mode": {
    "name": "ipython",
    "version": 3
   },
   "file_extension": ".py",
   "mimetype": "text/x-python",
   "name": "python",
   "nbconvert_exporter": "python",
   "pygments_lexer": "ipython3",
   "version": "3.11.13"
  },
  "papermill": {
   "default_parameters": {},
   "duration": 8.723841,
   "end_time": "2025-09-25T12:35:21.023744",
   "environment_variables": {},
   "exception": null,
   "input_path": "__notebook__.ipynb",
   "output_path": "__notebook__.ipynb",
   "parameters": {},
   "start_time": "2025-09-25T12:35:12.299903",
   "version": "2.6.0"
  }
 },
 "nbformat": 4,
 "nbformat_minor": 5
}
